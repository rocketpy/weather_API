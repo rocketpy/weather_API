{
 "cells": [
  {
   "cell_type": "code",
   "execution_count": null,
   "metadata": {},
   "outputs": [],
   "source": [
    "\"\"\"\n",
    "PyOWM is a client Python wrapper library for OpenWeatherMap web APIs.\n",
    "It allows quick and easy consumption of OWM data from Python applications ,\n",
    "via a simple object model and in a human-friendly fashion.\n",
    "\"\"\"\n",
    "# pip install pyowm\n",
    "\n",
    "# https://github.com/csparpa/pyowm\n",
    "\n",
    "# Django_pyowm  - https://github.com/csparpa/django-pyowm"
   ]
  },
  {
   "cell_type": "code",
   "execution_count": null,
   "metadata": {},
   "outputs": [],
   "source": [
    "# As OpenWeatherMap APIs need a valid API key to allow responses.\n",
    "# get API key - https://home.openweathermap.org/users/sign_up"
   ]
  },
  {
   "cell_type": "code",
   "execution_count": null,
   "metadata": {},
   "outputs": [],
   "source": [
    "# here a simple example of what you can do with PyOWM Weather API and a free OWM API Key\n",
    "\n",
    "import pyowm\n",
    "\n",
    "\n",
    "owm = pyowm.OWM('your-API-key')  # provide a valid API key\n",
    "\n",
    "# owm = pyowm.OWM(API_key='your-API-key', subscription_type='pro')   # if use pro subscription\n",
    "\n",
    "# current weather in London (Great Britain)\n",
    "observation = owm.weather_at_place('London,GB')\n",
    "w = observation.get_weather()\n",
    "print(w)\n",
    "\n",
    "# weather details\n",
    "w.get_wind()                  # {'speed': 4.6, 'deg': 330}\n",
    "w.get_humidity()              # 87\n",
    "w.get_temperature('celsius')  # {'temp_max': 10.5, 'temp': 9.7, 'temp_min': 9.0}\n",
    "\n",
    "\n",
    "# search current weather observations in the surroundings of\n",
    "# lat=22.57W, lon=43.12S (Rio de Janeiro, BR)\n",
    "observation_list = owm.weather_around_coords(-22.57, -43.12)"
   ]
  },
  {
   "cell_type": "code",
   "execution_count": null,
   "metadata": {},
   "outputs": [],
   "source": [
    "# one more example\n",
    "\n",
    "import pyowm\n",
    "\n",
    "\n",
    "owm = pyowm.OWM('API-key', language = 'ru')  # default language is eng !!\n",
    "city = input('For which one city need a weather ? : ')\n",
    "observation = owm.weather_at_place(city)\n",
    "w = observation.get_weather()\n",
    "temp = w.get_temperature('celsius')['temp']\n",
    "print('In city : ' + city + ' now is ' + w.get_detailed_status())\n",
    "print('Temperature now is ' + str(temp))"
   ]
  },
  {
   "cell_type": "code",
   "execution_count": null,
   "metadata": {},
   "outputs": [],
   "source": [
    "#  https://github.com/ZeevG/python-forecast.io\n",
    "# This is a wrapper for the Dark Sky  !"
   ]
  }
 ],
 "metadata": {
  "kernelspec": {
   "display_name": "Python 3",
   "language": "python",
   "name": "python3"
  },
  "language_info": {
   "codemirror_mode": {
    "name": "ipython",
    "version": 3
   },
   "file_extension": ".py",
   "mimetype": "text/x-python",
   "name": "python",
   "nbconvert_exporter": "python",
   "pygments_lexer": "ipython3",
   "version": "3.6.2"
  }
 },
 "nbformat": 4,
 "nbformat_minor": 2
}
